{
 "cells": [
  {
   "cell_type": "markdown",
   "metadata": {},
   "source": [
    "This exercise will require you to pull some data from the Qunadl API. Qaundl is currently the most widely used aggregator of financial market data."
   ]
  },
  {
   "cell_type": "markdown",
   "metadata": {},
   "source": [
    "As a first step, you will need to register a free account on the http://www.quandl.com website."
   ]
  },
  {
   "cell_type": "markdown",
   "metadata": {},
   "source": [
    "After you register, you will be provided with a unique API key, that you should store:"
   ]
  },
  {
   "cell_type": "code",
   "execution_count": 1,
   "metadata": {
    "collapsed": true
   },
   "outputs": [],
   "source": [
    "# Store the API key as a string - according to PEP8, constants are always named in all upper case\n",
    "API_KEY = ''"
   ]
  },
  {
   "cell_type": "markdown",
   "metadata": {},
   "source": [
    "Qaundl has a large number of data sources, but, unfortunately, most of them require a Premium subscription. Still, there are also a good number of free datasets."
   ]
  },
  {
   "cell_type": "markdown",
   "metadata": {},
   "source": [
    "For this mini project, we will focus on equities data from the Frankfurt Stock Exhange (FSE), which is available for free. We'll try and analyze the stock prices of a company called Carl Zeiss Meditec, which manufactures tools for eye examinations, as well as medical lasers for laser eye surgery: https://www.zeiss.com/meditec/int/home.html. The company is listed under the stock ticker AFX_X."
   ]
  },
  {
   "cell_type": "markdown",
   "metadata": {},
   "source": [
    "You can find the detailed Quandl API instructions here: https://docs.quandl.com/docs/time-series"
   ]
  },
  {
   "cell_type": "markdown",
   "metadata": {},
   "source": [
    "While there is a dedicated Python package for connecting to the Quandl API, we would prefer that you use the *requests* package, which can be easily downloaded using *pip* or *conda*. You can find the documentation for the package here: http://docs.python-requests.org/en/master/ "
   ]
  },
  {
   "cell_type": "markdown",
   "metadata": {},
   "source": [
    "Finally, apart from the *requests* package, you are encouraged to not use any third party Python packages, such as *pandas*, and instead focus on what's available in the Python Standard Library (the *collections* module might come in handy: https://pymotw.com/3/collections/).\n",
    "Also, since you won't have access to DataFrames, you are encouraged to us Python's native data structures - preferably dictionaries, though some questions can also be answered using lists.\n",
    "You can read more on these data structures here: https://docs.python.org/3/tutorial/datastructures.html"
   ]
  },
  {
   "cell_type": "markdown",
   "metadata": {},
   "source": [
    "Keep in mind that the JSON responses you will be getting from the API map almost one-to-one to Python's dictionaries. Unfortunately, they can be very nested, so make sure you read up on indexing dictionaries in the documentation provided above."
   ]
  },
  {
   "cell_type": "code",
   "execution_count": 2,
   "metadata": {
    "collapsed": false
   },
   "outputs": [],
   "source": [
    "# First, import the relevant modules\n",
    "import requests"
   ]
  },
  {
   "cell_type": "code",
   "execution_count": 3,
   "metadata": {
    "collapsed": false
   },
   "outputs": [],
   "source": [
    "# Now, call the Quandl API and pull out a small sample of the data (only one day) to get a glimpse\n",
    "# into the JSON structure that will be returned\n",
    "r = requests.get('https://www.quandl.com/api/v3/datasets/FSE/AFX_X.json?start_date=2019-01-20&end_date=2019-01-20&api_key=' + API_KEY)"
   ]
  },
  {
   "cell_type": "code",
   "execution_count": 4,
   "metadata": {
    "collapsed": false
   },
   "outputs": [
    {
     "data": {
      "text/plain": [
       "'{\"dataset\":{\"id\":10095370,\"dataset_code\":\"AFX_X\",\"database_code\":\"FSE\",\"name\":\"Carl Zeiss Meditec (AFX_X)\",\"description\":\"Stock Prices for Carl Zeiss Meditec (AFX) from the Frankfurt Stock Exchange.\\\\u003cbr\\\\u003e\\\\u003cbr\\\\u003eTrading System: Xetra\\\\u003cbr\\\\u003e\\\\u003cbr\\\\u003eISIN: DE0005313704\",\"refreshed_at\":\"2019-01-22T22:30:10.278Z\",\"newest_available_date\":\"2019-01-22\",\"oldest_available_date\":\"2000-06-07\",\"column_names\":[\"Date\",\"Open\",\"High\",\"Low\",\"Close\",\"Change\",\"Traded Volume\",\"Turnover\",\"Last Price of the Day\",\"Daily Traded Units\",\"Daily Turnover\"],\"frequency\":\"daily\",\"type\":\"Time Series\",\"premium\":false,\"limit\":null,\"transform\":null,\"column_index\":null,\"start_date\":\"2019-01-20\",\"end_date\":\"2019-01-20\",\"data\":[],\"collapse\":null,\"order\":null,\"database_id\":6129}}'"
      ]
     },
     "execution_count": 4,
     "metadata": {},
     "output_type": "execute_result"
    }
   ],
   "source": [
    "# Inspect the JSON structure of the object you created, and take note of how nested it is,\n",
    "# as well as the overall structure\n",
    "r.content"
   ]
  },
  {
   "cell_type": "markdown",
   "metadata": {},
   "source": [
    "These are your tasks for this mini project:\n",
    "\n",
    "1. Collect data from the Franfurt Stock Exchange, for the ticker AFX_X, for the whole year 2017 (keep in mind that the date format is YYYY-MM-DD).\n",
    "2. Convert the returned JSON object into a Python dictionary.\n",
    "3. Calculate what the highest and lowest opening prices were for the stock in this period.\n",
    "4. What was the largest change in any one day (based on High and Low price)?\n",
    "5. What was the largest change between any two days (based on Closing Price)?\n",
    "6. What was the average daily trading volume during this year?\n",
    "7. (Optional) What was the median trading volume during this year. (Note: you may need to implement your own function for calculating the median.)"
   ]
  },
  {
   "cell_type": "code",
   "execution_count": 5,
   "metadata": {
    "collapsed": false
   },
   "outputs": [
    {
     "name": "stdout",
     "output_type": "stream",
     "text": [
      "0: Date\n",
      "1: Open\n",
      "2: High\n",
      "3: Low\n",
      "4: Close\n",
      "5: Change\n",
      "6: Traded Volume\n",
      "7: Turnover\n",
      "8: Last Price of the Day\n",
      "9: Daily Traded Units\n",
      "10: Daily Turnover\n"
     ]
    }
   ],
   "source": [
    "# request data for AFX_X on Frankfurt Stock Exchange for 2017\n",
    "afx_x_req = requests.get('https://www.quandl.com/api/v3/datasets/FSE/AFX_X.json?start_date=2017-01-01&end_date=2017-12-31&api_key=' + API_KEY)\n",
    "\n",
    "# convert response to dictionary\n",
    "afx_x = afx_x_req.json()\n",
    "\n",
    "# store headers and data\n",
    "afx_header = afx_x['dataset']['column_names']\n",
    "afx_x = afx_x['dataset']['data']\n",
    "\n",
    "# view index for each header to map to data\n",
    "for index, header in enumerate(afx_header):\n",
    "    print str(index) + ': ' + header"
   ]
  },
  {
   "cell_type": "code",
   "execution_count": 6,
   "metadata": {
    "collapsed": false
   },
   "outputs": [
    {
     "name": "stdout",
     "output_type": "stream",
     "text": [
      "Highest opening: 53.11\n",
      "Lowest opening: 34.0\n"
     ]
    }
   ],
   "source": [
    "# create and populate a list of opening prices\n",
    "opens = []\n",
    "for day in afx_x:\n",
    "    if day[1] != None:\n",
    "        opens.append(day[1])\n",
    "        \n",
    "# print highest and lowest opening prices\n",
    "print 'Highest opening: ' + str(max(opens))\n",
    "print 'Lowest opening: ' + str(min(opens))"
   ]
  },
  {
   "cell_type": "code",
   "execution_count": 7,
   "metadata": {
    "collapsed": false
   },
   "outputs": [
    {
     "name": "stdout",
     "output_type": "stream",
     "text": [
      "Highest change (same day high - low): 2.81\n"
     ]
    }
   ],
   "source": [
    "# create and populate a list of changes\n",
    "changes = []\n",
    "for day in afx_x:\n",
    "    changes.append(day[2]-day[3])\n",
    "    \n",
    "# print highest daily change\n",
    "print 'Highest change (same day high - low): ' + str(max(changes))"
   ]
  },
  {
   "cell_type": "code",
   "execution_count": 8,
   "metadata": {
    "collapsed": false
   },
   "outputs": [
    {
     "name": "stdout",
     "output_type": "stream",
     "text": [
      "Highest change between consecutive trading day closing prices: 2.56\n"
     ]
    }
   ],
   "source": [
    "# create and populate a list of closing prices\n",
    "closes = []\n",
    "for day in afx_x:\n",
    "    closes.append(day[4])\n",
    "closes.reverse()\n",
    "\n",
    "# clone list of closing prices\n",
    "closes_next_day = list(closes)\n",
    "\n",
    "# delete last value to closing prices\n",
    "del closes[-1]\n",
    "\n",
    "# delete first value of cloned closing prices\n",
    "del closes_next_day[0]\n",
    "\n",
    "# element-wise difference between closing price for one day and the next day\n",
    "daily_change = zip(closes, closes_next_day)\n",
    "two_day_change = [abs(day_two - day_one) for day_one, day_two in daily_change]\n",
    "\n",
    "# print highest magnitude difference\n",
    "print 'Highest change between consecutive trading day closing prices: ' + str(max(two_day_change))"
   ]
  },
  {
   "cell_type": "code",
   "execution_count": 9,
   "metadata": {
    "collapsed": false
   },
   "outputs": [
    {
     "name": "stdout",
     "output_type": "stream",
     "text": [
      "Mean daily trading volume: 89124.34\n"
     ]
    }
   ],
   "source": [
    "# create and populate a list of trading volumes\n",
    "volumes = []\n",
    "for day in afx_x:\n",
    "    volumes.append(day[6])\n",
    "    \n",
    "# calculate and print mean of trading volumes\n",
    "print 'Mean daily trading volume: ' + str(round(sum(volumes)/len(volumes),2))"
   ]
  },
  {
   "cell_type": "code",
   "execution_count": 10,
   "metadata": {
    "collapsed": false
   },
   "outputs": [
    {
     "name": "stdout",
     "output_type": "stream",
     "text": [
      "Median daily trading volume: 76286.0\n"
     ]
    }
   ],
   "source": [
    "def median(list):\n",
    "    \"\"\"This function accepts a list of numbers and returns the median\"\"\"\n",
    "    list.sort()\n",
    "    l = len(list)\n",
    "    if l % 2 == 0:\n",
    "        med = float((list[l / 2] + list[l / 2 - 1])) / 2\n",
    "    else:\n",
    "        med = list[int(l / 2)]\n",
    "    return med\n",
    "\n",
    "# calculate and print median of trading volumes\n",
    "print 'Median daily trading volume: ' + str(median(volumes))"
   ]
  },
  {
   "cell_type": "code",
   "execution_count": null,
   "metadata": {
    "collapsed": false
   },
   "outputs": [],
   "source": []
  },
  {
   "cell_type": "code",
   "execution_count": null,
   "metadata": {
    "collapsed": true
   },
   "outputs": [],
   "source": []
  }
 ],
 "metadata": {
  "kernelspec": {
   "display_name": "Python 2",
   "language": "python",
   "name": "python2"
  },
  "language_info": {
   "codemirror_mode": {
    "name": "ipython",
    "version": 2
   },
   "file_extension": ".py",
   "mimetype": "text/x-python",
   "name": "python",
   "nbconvert_exporter": "python",
   "pygments_lexer": "ipython2",
   "version": "2.7.11"
  }
 },
 "nbformat": 4,
 "nbformat_minor": 2
}
