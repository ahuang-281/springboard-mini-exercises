{
 "cells": [
  {
   "cell_type": "markdown",
   "metadata": {},
   "source": [
    "# What is the True Normal Human Body Temperature? \n",
    "\n",
    "#### Background\n",
    "\n",
    "The mean normal body temperature was held to be 37$^{\\circ}$C or 98.6$^{\\circ}$F for more than 120 years since it was first conceptualized and reported by Carl Wunderlich in a famous 1868 book. But, is this value statistically correct?"
   ]
  },
  {
   "cell_type": "markdown",
   "metadata": {},
   "source": [
    "<h3>Exercises</h3>\n",
    "\n",
    "<p>In this exercise, you will analyze a dataset of human body temperatures and employ the concepts of hypothesis testing, confidence intervals, and statistical significance.</p>\n",
    "\n",
    "<p>Answer the following questions <b>in this notebook below and submit to your Github account</b>.</p> \n",
    "\n",
    "<ol>\n",
    "<li>  Is the distribution of body temperatures normal? \n",
    "    <ul>\n",
    "    <li> Although this is not a requirement for the Central Limit Theorem to hold (read the introduction on Wikipedia's page about the CLT carefully: https://en.wikipedia.org/wiki/Central_limit_theorem), it gives us some peace of mind that the population may also be normally distributed if we assume that this sample is representative of the population.\n",
    "    <li> Think about the way you're going to check for the normality of the distribution. Graphical methods are usually used first, but there are also other ways: https://en.wikipedia.org/wiki/Normality_test\n",
    "    </ul>\n",
    "<li>  Is the sample size large? Are the observations independent?\n",
    "    <ul>\n",
    "    <li> Remember that this is a condition for the Central Limit Theorem, and hence the statistical tests we are using, to apply.\n",
    "    </ul>\n",
    "<li>  Is the true population mean really 98.6 degrees F?\n",
    "    <ul>\n",
    "    <li> First, try a bootstrap hypothesis test.\n",
    "    <li> Now, let's try frequentist statistical testing. Would you use a one-sample or two-sample test? Why?\n",
    "    <li> In this situation, is it appropriate to use the $t$ or $z$ statistic? \n",
    "    <li> Now try using the other test. How is the result be different? Why?\n",
    "    </ul>\n",
    "<li>  Draw a small sample of size 10 from the data and repeat both frequentist tests. \n",
    "    <ul>\n",
    "    <li> Which one is the correct one to use? \n",
    "    <li> What do you notice? What does this tell you about the difference in application of the $t$ and $z$ statistic?\n",
    "    </ul>\n",
    "<li>  At what temperature should we consider someone's temperature to be \"abnormal\"?\n",
    "    <ul>\n",
    "    <li> As in the previous example, try calculating everything using the boostrap approach, as well as the frequentist approach.\n",
    "    <li> Start by computing the margin of error and confidence interval. When calculating the confidence interval, keep in mind that you should use the appropriate formula for one draw, and not N draws.\n",
    "    </ul>\n",
    "<li>  Is there a significant difference between males and females in normal temperature?\n",
    "    <ul>\n",
    "    <li> What testing approach did you use and why?\n",
    "    <li> Write a story with your conclusion in the context of the original problem.\n",
    "    </ul>\n",
    "</ol>\n",
    "\n",
    "You can include written notes in notebook cells using Markdown: \n",
    "   - In the control panel at the top, choose Cell > Cell Type > Markdown\n",
    "   - Markdown syntax: http://nestacms.com/docs/creating-content/markdown-cheat-sheet\n",
    "\n",
    "#### Resources\n",
    "\n",
    "+ Information and data sources: http://www.amstat.org/publications/jse/datasets/normtemp.txt, http://www.amstat.org/publications/jse/jse_data_archive.htm\n",
    "+ Markdown syntax: http://nestacms.com/docs/creating-content/markdown-cheat-sheet\n",
    "\n",
    "****"
   ]
  },
  {
   "cell_type": "code",
   "execution_count": 67,
   "metadata": {
    "collapsed": true
   },
   "outputs": [],
   "source": [
    "import pandas as pd\n",
    "import matplotlib.pyplot as plt\n",
    "from scipy import stats\n",
    "import numpy as np\n",
    "%matplotlib inline\n",
    "\n",
    "df = pd.read_csv('data/human_body_temperature.csv')"
   ]
  },
  {
   "cell_type": "code",
   "execution_count": 68,
   "metadata": {
    "collapsed": false
   },
   "outputs": [
    {
     "name": "stdout",
     "output_type": "stream",
     "text": [
      "   temperature gender  heart_rate\n",
      "0         99.3      F          68\n",
      "1         98.4      F          81\n",
      "2         97.8      M          73\n",
      "3         99.2      F          66\n",
      "4         98.0      F          73\n",
      "5         99.2      M          83\n",
      "6         98.0      M          71\n",
      "7         98.8      M          78\n",
      "8         98.4      F          84\n",
      "9         98.6      F          86\n",
      "<class 'pandas.core.frame.DataFrame'>\n",
      "Int64Index: 130 entries, 0 to 129\n",
      "Data columns (total 3 columns):\n",
      "temperature    130 non-null float64\n",
      "gender         130 non-null object\n",
      "heart_rate     130 non-null float64\n",
      "dtypes: float64(2), object(1)\n",
      "memory usage: 4.1+ KB\n",
      "None\n"
     ]
    }
   ],
   "source": [
    "# Check structure of dataframe\n",
    "print df.head(10)\n",
    "print df.info()"
   ]
  },
  {
   "cell_type": "markdown",
   "metadata": {},
   "source": [
    "## (Question 1) Is the distribution of body temperatures normal?"
   ]
  },
  {
   "cell_type": "code",
   "execution_count": 69,
   "metadata": {
    "collapsed": false
   },
   "outputs": [
    {
     "data": {
      "image/png": "[encoded data removed]",
      "text/plain": [
       "<matplotlib.figure.Figure at 0xd2bbb70>"
      ]
     },
     "metadata": {},
     "output_type": "display_data"
    }
   ],
   "source": [
    "# Plot a histogram of the sampled temperatures\n",
    "df.hist(column = 'temperature', bins = 25)\n",
    "plt.xlabel('temperature')\n",
    "plt.ylabel('frequency')\n",
    "plt.show()"
   ]
  },
  {
   "cell_type": "markdown",
   "metadata": {},
   "source": [
    "The distribution looks roughly normal on the histogram."
   ]
  },
  {
   "cell_type": "code",
   "execution_count": 70,
   "metadata": {
    "collapsed": false
   },
   "outputs": [
    {
     "name": "stdout",
     "output_type": "stream",
     "text": [
      "We cannot reject the hypothesis that the measured temperatures are from a normal distribution.\n"
     ]
    }
   ],
   "source": [
    "# Perform a normality test on the data\n",
    "\n",
    "alpha = 0.05\n",
    "k2, p = stats.normaltest(df.temperature) # Pearsons' chi-squared test for normality\n",
    "\n",
    "if p < alpha:  # null hypothesis: temperature is sampled from a normal distribution\n",
    "    print(\"We can reject the hypothesis that the measured temperatures are from a normal distribution.\")\n",
    "else:\n",
    "    print(\"We cannot reject the hypothesis that the measured temperatures are from a normal distribution.\")"
   ]
  },
  {
   "cell_type": "markdown",
   "metadata": {},
   "source": [
    "It is reasonable to assume that the distribution of body temperatures is normal"
   ]
  },
  {
   "cell_type": "code",
   "execution_count": null,
   "metadata": {
    "collapsed": true
   },
   "outputs": [],
   "source": []
  },
  {
   "cell_type": "markdown",
   "metadata": {},
   "source": [
    "## (Question 2) Is the sample size large? Are the observations independent?"
   ]
  },
  {
   "cell_type": "code",
   "execution_count": 71,
   "metadata": {
    "collapsed": false
   },
   "outputs": [
    {
     "name": "stdout",
     "output_type": "stream",
     "text": [
      "130 observations\n"
     ]
    }
   ],
   "source": [
    "# Count the number of observations\n",
    "print str(len(df.temperature)) + ' observations'"
   ]
  },
  {
   "cell_type": "markdown",
   "metadata": {},
   "source": [
    "Using the n >= 30 rule-of-thumb, yes the sample size is large.\n",
    "We also know the population of humans is more than 130/0.1=1300, so we can assume the observations are independent."
   ]
  },
  {
   "cell_type": "code",
   "execution_count": null,
   "metadata": {
    "collapsed": true
   },
   "outputs": [],
   "source": []
  },
  {
   "cell_type": "markdown",
   "metadata": {},
   "source": [
    "## (Question 3) Is the true population mean really 98.6 degrees F?"
   ]
  },
  {
   "cell_type": "code",
   "execution_count": 79,
   "metadata": {
    "collapsed": false
   },
   "outputs": [
    {
     "data": {
      "image/png": "[encoded data removed]",
      "text/plain": [
       "<matplotlib.figure.Figure at 0xd2f6fd0>"
      ]
     },
     "metadata": {},
     "output_type": "display_data"
    },
    {
     "name": "stdout",
     "output_type": "stream",
     "text": [
      "p-value: 0\n",
      "We can reject the hypothesis that the true mean body temperature is 98.6 degrees F.\n"
     ]
    }
   ],
   "source": [
    "np.random.seed(31) # Set a random seed for replicating this test.  This number can be changed\n",
    "\n",
    "alpha = 0.05 # Set a threshold for rejecting the null hypothesis\n",
    "n_replicates = 10000\n",
    "replicates = []\n",
    "\n",
    "# Collect n_replicates bootstrap samples\n",
    "for _ in range(n_replicates):\n",
    "    bs_sample = np.random.choice(df.temperature, len(df.temperature), replace = True)\n",
    "    replicate = np.mean(bs_sample)\n",
    "    replicates.append(replicate)\n",
    "\n",
    "# Plot resulting distribution\n",
    "plt.hist(replicates, bins = 100)\n",
    "plt.xlabel('Bootstrap Sample Mean')\n",
    "plt.ylabel('Frequency')\n",
    "plt.show()\n",
    "\n",
    "p = np.sum(replicates >= 98.6)/n_replicates\n",
    "print 'p-value: ' + str(p)\n",
    "\n",
    "if p < alpha:  # null hypothesis: true population mean body temperature is 98.6 degrees F\n",
    "    print(\"We can reject the hypothesis that the true mean body temperature is 98.6 degrees F.\")\n",
    "else:\n",
    "    print(\"We cannot reject the hypothesis that the true mean body temperature is 98.6 degrees F.\")"
   ]
  },
  {
   "cell_type": "markdown",
   "metadata": {},
   "source": [
    "Using bootstrap testing, we find that it is unlikely that the true population mean body temperature is 98.6 F.\n",
    "\n",
    "We can also try this with frequentist statistical testing.  We would use a one-sample test because we are interested in the mean temperature of the population as a whole.  Because the sample size is large, either z-testing or t-testing would be appropriate in this case, as a z-test is just a t-test in the limit of large sample size."
   ]
  },
  {
   "cell_type": "code",
   "execution_count": 73,
   "metadata": {
    "collapsed": false
   },
   "outputs": [
    {
     "name": "stdout",
     "output_type": "stream",
     "text": [
      "p-value: 4.35231517493e-08\n",
      "We can reject the hypothesis that the true mean body temperature is 98.6 degrees F.\n"
     ]
    }
   ],
   "source": [
    "# Estimate mean and standard error of the sampling distribution.\n",
    "\n",
    "mean = np.mean(df.temperature)\n",
    "se = np.std(df.temperature)/len(df.temperature)**0.5\n",
    "z = (98.6-mean)/se\n",
    "p = 2*(1-stats.norm.cdf(abs(z)))\n",
    "print 'p-value: ' + str(p)\n",
    "\n",
    "if p < alpha:  # null hypothesis: true population mean body temperature is 98.6 degrees F\n",
    "    print(\"We can reject the hypothesis that the true mean body temperature is 98.6 degrees F.\")\n",
    "else:\n",
    "    print(\"We cannot reject the hypothesis that the true mean body temperature is 98.6 degrees F.\")"
   ]
  },
  {
   "cell_type": "markdown",
   "metadata": {},
   "source": [
    "A t-test should in theory give approximately the same result as the z-test in the case of large sample size, but the z-test will slightly underestimate the p-value.  We can see that below."
   ]
  },
  {
   "cell_type": "code",
   "execution_count": 74,
   "metadata": {
    "collapsed": false
   },
   "outputs": [
    {
     "name": "stdout",
     "output_type": "stream",
     "text": [
      "p-value: 2.41063204156e-07\n",
      "We can reject the hypothesis that the true mean body temperature is 98.6 degrees F.\n"
     ]
    }
   ],
   "source": [
    "t, p = stats.ttest_1samp(df.temperature, 98.6)\n",
    "print 'p-value: ' + str(p)\n",
    "if p < alpha:  # null hypothesis: true population mean body temperature is 98.6 degrees F\n",
    "    print(\"We can reject the hypothesis that the true mean body temperature is 98.6 degrees F.\")\n",
    "else:\n",
    "    print(\"We cannot reject the hypothesis that the true mean body temperature is 98.6 degrees F.\")"
   ]
  },
  {
   "cell_type": "markdown",
   "metadata": {},
   "source": [
    "## (Question 4) Draw a small sample of size 10 from the data and repeat both frequentist tests."
   ]
  },
  {
   "cell_type": "code",
   "execution_count": 77,
   "metadata": {
    "collapsed": false
   },
   "outputs": [
    {
     "name": "stdout",
     "output_type": "stream",
     "text": [
      "p-value: 0.0263677454637\n",
      "We can reject the hypothesis that the true mean body temperature is 98.6 degrees F.\n"
     ]
    }
   ],
   "source": [
    "np.random.seed(31) # Set a random seed for replicating this selection of the small sample.  This number can be changed\n",
    "\n",
    "small_sample = np.random.choice(df.temperature, 10, replace = True)\n",
    "\n",
    "# z-test\n",
    "# Estimate mean and standard error of the sampling distribution.\n",
    "mean = np.mean(small_sample)\n",
    "se = np.std(small_sample)/len(small_sample)**0.5\n",
    "z = (98.6-mean)/se\n",
    "p = 2*(1-stats.norm.cdf(abs(z)))\n",
    "print 'p-value: ' + str(p)\n",
    "\n",
    "if p < alpha:  # null hypothesis: true population mean body temperature is 98.6 degrees F\n",
    "    print(\"We can reject the hypothesis that the true mean body temperature is 98.6 degrees F.\")\n",
    "else:\n",
    "    print(\"We cannot reject the hypothesis that the true mean body temperature is 98.6 degrees F.\")"
   ]
  },
  {
   "cell_type": "code",
   "execution_count": 78,
   "metadata": {
    "collapsed": false
   },
   "outputs": [
    {
     "name": "stdout",
     "output_type": "stream",
     "text": [
      "p-value: 0.0644044957194\n",
      "We cannot reject the hypothesis that the true mean body temperature is 98.6 degrees F.\n"
     ]
    }
   ],
   "source": [
    "# t-test\n",
    "t, p = stats.ttest_1samp(small_sample, 98.6)\n",
    "print 'p-value: ' + str(p)\n",
    "if p < alpha:  # null hypothesis: true population mean body temperature is 98.6 degrees F\n",
    "    print(\"We can reject the hypothesis that the true mean body temperature is 98.6 degrees F.\")\n",
    "else:\n",
    "    print(\"We cannot reject the hypothesis that the true mean body temperature is 98.6 degrees F.\")"
   ]
  },
  {
   "cell_type": "markdown",
   "metadata": {},
   "source": [
    "In the case of the small sample (n = 10), only the t-test and not the z-test is appropriate to use, as the z-test significantly underestimates the p-value."
   ]
  },
  {
   "cell_type": "markdown",
   "metadata": {},
   "source": [
    "## (Question 5) At what temperature should we consider someone's temperature to be \"abnormal\"?"
   ]
  },
  {
   "cell_type": "markdown",
   "metadata": {},
   "source": [
    "For this question, we will consider 'abnormal' temperatures to be those outside of a 95% confidence interval.  We will first calculate this interval with bootstrapping."
   ]
  },
  {
   "cell_type": "code",
   "execution_count": 81,
   "metadata": {
    "collapsed": false
   },
   "outputs": [
    {
     "name": "stdout",
     "output_type": "stream",
     "text": [
      "Temperatures lower than 98.1230576923 and higher than 98.3753846154 are abnormal.\n"
     ]
    }
   ],
   "source": [
    "np.random.seed(31) # Set a random seed for replicating this test.  This number can be changed\n",
    "\n",
    "c_interval_p = [2.5, 97.5]\n",
    "n_replicates = 10000\n",
    "replicates = []\n",
    "\n",
    "# Collect n_replicates bootstrap samples\n",
    "for _ in range(n_replicates):\n",
    "    bs_sample = np.random.choice(df.temperature, len(df.temperature), replace = True)\n",
    "    replicate = np.mean(bs_sample)\n",
    "    replicates.append(replicate)\n",
    "\n",
    "c_interval = np.percentile(replicates, c_interval_p)\n",
    "print 'Temperatures lower than '+str(c_interval[0])+' and higher than '+str(c_interval[1])+' are abnormal.'"
   ]
  },
  {
   "cell_type": "markdown",
   "metadata": {},
   "source": [
    "We can also calculate this interval with a frequentist approach.  We will use z-scores to calculate this inverval, as the sample size is large."
   ]
  },
  {
   "cell_type": "code",
   "execution_count": 83,
   "metadata": {
    "collapsed": false
   },
   "outputs": [
    {
     "name": "stdout",
     "output_type": "stream",
     "text": [
      "Temperatures lower than 98.1236821115 and higher than 98.374779427 are abnormal.\n"
     ]
    }
   ],
   "source": [
    "# Estimate mean and standard error of the sampling distribution.\n",
    "mean = np.mean(df.temperature)\n",
    "se = np.std(df.temperature)/len(df.temperature)**0.5\n",
    "\n",
    "# Calculate the confidence interval.\n",
    "c_interval = stats.norm.interval(0.95, loc=mean, scale=se)\n",
    "\n",
    "print 'Temperatures lower than '+str(c_interval[0])+' and higher than '+str(c_interval[1])+' are abnormal.'"
   ]
  },
  {
   "cell_type": "code",
   "execution_count": null,
   "metadata": {
    "collapsed": true
   },
   "outputs": [],
   "source": []
  },
  {
   "cell_type": "markdown",
   "metadata": {},
   "source": [
    "## (Question 6) Is there a significant difference between males and females in normal temperature?"
   ]
  },
  {
   "cell_type": "code",
   "execution_count": 86,
   "metadata": {
    "collapsed": false
   },
   "outputs": [
    {
     "data": {
      "text/html": [
       "<div>\n",
       "<table border=\"1\" class=\"dataframe\">\n",
       "  <thead>\n",
       "    <tr style=\"text-align: right;\">\n",
       "      <th></th>\n",
       "      <th>temperature</th>\n",
       "      <th>heart_rate</th>\n",
       "    </tr>\n",
       "    <tr>\n",
       "      <th>gender</th>\n",
       "      <th></th>\n",
       "      <th></th>\n",
       "    </tr>\n",
       "  </thead>\n",
       "  <tbody>\n",
       "    <tr>\n",
       "      <th>F</th>\n",
       "      <td>65</td>\n",
       "      <td>65</td>\n",
       "    </tr>\n",
       "    <tr>\n",
       "      <th>M</th>\n",
       "      <td>65</td>\n",
       "      <td>65</td>\n",
       "    </tr>\n",
       "  </tbody>\n",
       "</table>\n",
       "</div>"
      ],
      "text/plain": [
       "        temperature  heart_rate\n",
       "gender                         \n",
       "F                65          65\n",
       "M                65          65"
      ]
     },
     "execution_count": 86,
     "metadata": {},
     "output_type": "execute_result"
    }
   ],
   "source": [
    "# First determine how many of each gender.\n",
    "\n",
    "df.groupby('gender').count()"
   ]
  },
  {
   "cell_type": "markdown",
   "metadata": {},
   "source": [
    "There are equal numbers of males and female in the sample, so we can assume equal variances to simplify the calculation."
   ]
  },
  {
   "cell_type": "code",
   "execution_count": 97,
   "metadata": {
    "collapsed": false
   },
   "outputs": [
    {
     "name": "stdout",
     "output_type": "stream",
     "text": [
      "The mean temperature for males is 98.1046153846 F.\n",
      "The mean temperature for females is 98.3938461538 F.\n",
      "We can reject the hypothesis that males and females have the same mean body temperature.\n"
     ]
    }
   ],
   "source": [
    "alpha = 0.05\n",
    "\n",
    "m_temps = df[df.gender == 'M'].temperature\n",
    "f_temps = df[df.gender == 'F'].temperature\n",
    "print 'The mean temperature for males is '+str(np.mean(m_temps))+' F.'\n",
    "print 'The mean temperature for females is '+str(np.mean(f_temps))+' F.'\n",
    "\n",
    "t, p = stats.ttest_ind(m_temps, f_temps)\n",
    "\n",
    "if p < alpha:  # null hypothesis: males and females have the same mean body temperature\n",
    "    print(\"We can reject the hypothesis that males and females have the same mean body temperature.\")\n",
    "else:\n",
    "    print(\"We cannot reject the hypothesis that males and females have the same mean body temperature.\")"
   ]
  },
  {
   "cell_type": "markdown",
   "metadata": {},
   "source": [
    "While it is believed that the average human body temperature is 98.6 degrees F, we have strong evidence that that this widely-accepted number is not representative of the true mean human body temperature based on temperatures taken from a random sample of 65 males and 65 females.  Additionally, we can reasonably conclude that the mean body temperatures for males and female are also not equal."
   ]
  },
  {
   "cell_type": "code",
   "execution_count": null,
   "metadata": {
    "collapsed": true
   },
   "outputs": [],
   "source": []
  }
 ],
 "metadata": {
  "kernelspec": {
   "display_name": "Python 2",
   "language": "python",
   "name": "python2"
  },
  "language_info": {
   "codemirror_mode": {
    "name": "ipython",
    "version": 2
   },
   "file_extension": ".py",
   "mimetype": "text/x-python",
   "name": "python",
   "nbconvert_exporter": "python",
   "pygments_lexer": "ipython2",
   "version": "2.7.11"
  }
 },
 "nbformat": 4,
 "nbformat_minor": 1
}
